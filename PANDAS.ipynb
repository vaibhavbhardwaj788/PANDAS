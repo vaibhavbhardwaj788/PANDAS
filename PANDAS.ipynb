{
 "cells": [
  {
   "cell_type": "code",
   "execution_count": 1,
   "id": "e19f5c9d",
   "metadata": {},
   "outputs": [],
   "source": [
    "import pandas as pd"
   ]
  },
  {
   "cell_type": "code",
   "execution_count": 2,
   "id": "953f56a3",
   "metadata": {},
   "outputs": [
    {
     "data": {
      "text/plain": [
       "0    1\n",
       "1    2\n",
       "2    3\n",
       "3    4\n",
       "4    5\n",
       "dtype: int64"
      ]
     },
     "execution_count": 2,
     "metadata": {},
     "output_type": "execute_result"
    }
   ],
   "source": [
    "series = pd.Series([1,2,3,4,5])\n",
    "series"
   ]
  },
  {
   "cell_type": "markdown",
   "id": "c13fd6f8",
   "metadata": {},
   "source": [
    "# Inserting Arrays In Series"
   ]
  },
  {
   "cell_type": "code",
   "execution_count": 3,
   "id": "e4e273f6",
   "metadata": {},
   "outputs": [],
   "source": [
    "import numpy as np\n"
   ]
  },
  {
   "cell_type": "code",
   "execution_count": 4,
   "id": "be0e6496",
   "metadata": {},
   "outputs": [
    {
     "data": {
      "text/plain": [
       "array([1, 2, 3, 4, 5, 6, 7, 8, 9])"
      ]
     },
     "execution_count": 4,
     "metadata": {},
     "output_type": "execute_result"
    }
   ],
   "source": [
    "array = np.array([1,2,3,4,5,6,7,8,9])\n",
    "array"
   ]
  },
  {
   "cell_type": "code",
   "execution_count": 6,
   "id": "e904b61e",
   "metadata": {},
   "outputs": [
    {
     "data": {
      "text/plain": [
       "0    1\n",
       "1    2\n",
       "2    3\n",
       "3    4\n",
       "4    5\n",
       "5    6\n",
       "6    7\n",
       "7    8\n",
       "8    9\n",
       "dtype: int32"
      ]
     },
     "execution_count": 6,
     "metadata": {},
     "output_type": "execute_result"
    }
   ],
   "source": [
    "pd.Series(array)"
   ]
  },
  {
   "cell_type": "markdown",
   "id": "df6bd8ec",
   "metadata": {},
   "source": [
    "# Inserting Index into Series"
   ]
  },
  {
   "cell_type": "code",
   "execution_count": 7,
   "id": "8d15a4ce",
   "metadata": {},
   "outputs": [
    {
     "data": {
      "text/plain": [
       "one      1\n",
       "two      2\n",
       "three    3\n",
       "four     4\n",
       "five     5\n",
       "six      6\n",
       "seven    7\n",
       "eight    8\n",
       "nine     9\n",
       "dtype: int32"
      ]
     },
     "execution_count": 7,
     "metadata": {},
     "output_type": "execute_result"
    }
   ],
   "source": [
    "Sr = pd.Series(array, index = (\"one\",\"two\",\"three\",\"four\",\"five\",\"six\",\"seven\",\"eight\",\"nine\"))\n",
    "Sr"
   ]
  },
  {
   "cell_type": "code",
   "execution_count": 8,
   "id": "1311876b",
   "metadata": {},
   "outputs": [
    {
     "data": {
      "text/plain": [
       "1"
      ]
     },
     "execution_count": 8,
     "metadata": {},
     "output_type": "execute_result"
    }
   ],
   "source": [
    "Sr['one']"
   ]
  },
  {
   "cell_type": "code",
   "execution_count": 9,
   "id": "da4d94bb",
   "metadata": {},
   "outputs": [
    {
     "data": {
      "text/plain": [
       "one      1\n",
       "two      2\n",
       "three    3\n",
       "four     4\n",
       "five     5\n",
       "dtype: int64"
      ]
     },
     "execution_count": 9,
     "metadata": {},
     "output_type": "execute_result"
    }
   ],
   "source": [
    "exp = pd.Series([1,2,3,4,5],index = (\"one\",\"two\",\"three\",\"four\",\"five\"))\n",
    "exp"
   ]
  },
  {
   "cell_type": "markdown",
   "id": "783d7c9f",
   "metadata": {},
   "source": [
    "# Now We are having Two Series...Add Both exp+Sr"
   ]
  },
  {
   "cell_type": "code",
   "execution_count": 10,
   "id": "38cbb069",
   "metadata": {},
   "outputs": [
    {
     "data": {
      "text/plain": [
       "eight     NaN\n",
       "five     10.0\n",
       "four      8.0\n",
       "nine      NaN\n",
       "one       2.0\n",
       "seven     NaN\n",
       "six       NaN\n",
       "three     6.0\n",
       "two       4.0\n",
       "dtype: float64"
      ]
     },
     "execution_count": 10,
     "metadata": {},
     "output_type": "execute_result"
    }
   ],
   "source": [
    "exp+Sr"
   ]
  },
  {
   "cell_type": "code",
   "execution_count": 11,
   "id": "6e580d28",
   "metadata": {},
   "outputs": [],
   "source": [
    "#nan number generated because index was not matching out"
   ]
  },
  {
   "cell_type": "code",
   "execution_count": 12,
   "id": "17682050",
   "metadata": {},
   "outputs": [
    {
     "data": {
      "text/html": [
       "<div>\n",
       "<style scoped>\n",
       "    .dataframe tbody tr th:only-of-type {\n",
       "        vertical-align: middle;\n",
       "    }\n",
       "\n",
       "    .dataframe tbody tr th {\n",
       "        vertical-align: top;\n",
       "    }\n",
       "\n",
       "    .dataframe thead th {\n",
       "        text-align: right;\n",
       "    }\n",
       "</style>\n",
       "<table border=\"1\" class=\"dataframe\">\n",
       "  <thead>\n",
       "    <tr style=\"text-align: right;\">\n",
       "      <th></th>\n",
       "      <th>0</th>\n",
       "      <th>1</th>\n",
       "    </tr>\n",
       "  </thead>\n",
       "  <tbody>\n",
       "    <tr>\n",
       "      <th>one</th>\n",
       "      <td>1.0</td>\n",
       "      <td>1</td>\n",
       "    </tr>\n",
       "    <tr>\n",
       "      <th>two</th>\n",
       "      <td>2.0</td>\n",
       "      <td>2</td>\n",
       "    </tr>\n",
       "    <tr>\n",
       "      <th>three</th>\n",
       "      <td>3.0</td>\n",
       "      <td>3</td>\n",
       "    </tr>\n",
       "    <tr>\n",
       "      <th>four</th>\n",
       "      <td>4.0</td>\n",
       "      <td>4</td>\n",
       "    </tr>\n",
       "    <tr>\n",
       "      <th>five</th>\n",
       "      <td>5.0</td>\n",
       "      <td>5</td>\n",
       "    </tr>\n",
       "    <tr>\n",
       "      <th>six</th>\n",
       "      <td>NaN</td>\n",
       "      <td>6</td>\n",
       "    </tr>\n",
       "    <tr>\n",
       "      <th>seven</th>\n",
       "      <td>NaN</td>\n",
       "      <td>7</td>\n",
       "    </tr>\n",
       "    <tr>\n",
       "      <th>eight</th>\n",
       "      <td>NaN</td>\n",
       "      <td>8</td>\n",
       "    </tr>\n",
       "    <tr>\n",
       "      <th>nine</th>\n",
       "      <td>NaN</td>\n",
       "      <td>9</td>\n",
       "    </tr>\n",
       "  </tbody>\n",
       "</table>\n",
       "</div>"
      ],
      "text/plain": [
       "         0  1\n",
       "one    1.0  1\n",
       "two    2.0  2\n",
       "three  3.0  3\n",
       "four   4.0  4\n",
       "five   5.0  5\n",
       "six    NaN  6\n",
       "seven  NaN  7\n",
       "eight  NaN  8\n",
       "nine   NaN  9"
      ]
     },
     "execution_count": 12,
     "metadata": {},
     "output_type": "execute_result"
    }
   ],
   "source": [
    "pd.concat([exp,Sr],axis=1)\n"
   ]
  },
  {
   "cell_type": "code",
   "execution_count": 13,
   "id": "703b9e5f",
   "metadata": {},
   "outputs": [
    {
     "data": {
      "text/plain": [
       "one      1\n",
       "two      2\n",
       "three    3\n",
       "four     4\n",
       "five     5\n",
       "one      1\n",
       "two      2\n",
       "three    3\n",
       "four     4\n",
       "five     5\n",
       "six      6\n",
       "seven    7\n",
       "eight    8\n",
       "nine     9\n",
       "dtype: int64"
      ]
     },
     "execution_count": 13,
     "metadata": {},
     "output_type": "execute_result"
    }
   ],
   "source": [
    "pd.concat([exp,Sr])"
   ]
  },
  {
   "cell_type": "markdown",
   "id": "68332076",
   "metadata": {},
   "source": [
    "# DATAFRAME CREATION"
   ]
  },
  {
   "cell_type": "code",
   "execution_count": 14,
   "id": "3c1355f7",
   "metadata": {},
   "outputs": [
    {
     "data": {
      "text/html": [
       "<div>\n",
       "<style scoped>\n",
       "    .dataframe tbody tr th:only-of-type {\n",
       "        vertical-align: middle;\n",
       "    }\n",
       "\n",
       "    .dataframe tbody tr th {\n",
       "        vertical-align: top;\n",
       "    }\n",
       "\n",
       "    .dataframe thead th {\n",
       "        text-align: right;\n",
       "    }\n",
       "</style>\n",
       "<table border=\"1\" class=\"dataframe\">\n",
       "  <thead>\n",
       "    <tr style=\"text-align: right;\">\n",
       "      <th></th>\n",
       "      <th>0</th>\n",
       "      <th>1</th>\n",
       "      <th>2</th>\n",
       "      <th>3</th>\n",
       "      <th>4</th>\n",
       "    </tr>\n",
       "  </thead>\n",
       "  <tbody>\n",
       "    <tr>\n",
       "      <th>0</th>\n",
       "      <td>0.000246</td>\n",
       "      <td>0.216858</td>\n",
       "      <td>0.530353</td>\n",
       "      <td>0.390946</td>\n",
       "      <td>0.276777</td>\n",
       "    </tr>\n",
       "    <tr>\n",
       "      <th>1</th>\n",
       "      <td>0.539195</td>\n",
       "      <td>0.918449</td>\n",
       "      <td>0.753328</td>\n",
       "      <td>0.786820</td>\n",
       "      <td>0.124434</td>\n",
       "    </tr>\n",
       "    <tr>\n",
       "      <th>2</th>\n",
       "      <td>0.958271</td>\n",
       "      <td>0.091281</td>\n",
       "      <td>0.844990</td>\n",
       "      <td>0.623345</td>\n",
       "      <td>0.585116</td>\n",
       "    </tr>\n",
       "    <tr>\n",
       "      <th>3</th>\n",
       "      <td>0.736231</td>\n",
       "      <td>0.483943</td>\n",
       "      <td>0.909906</td>\n",
       "      <td>0.783644</td>\n",
       "      <td>0.838569</td>\n",
       "    </tr>\n",
       "    <tr>\n",
       "      <th>4</th>\n",
       "      <td>0.590180</td>\n",
       "      <td>0.977407</td>\n",
       "      <td>0.837250</td>\n",
       "      <td>0.383525</td>\n",
       "      <td>0.248370</td>\n",
       "    </tr>\n",
       "  </tbody>\n",
       "</table>\n",
       "</div>"
      ],
      "text/plain": [
       "          0         1         2         3         4\n",
       "0  0.000246  0.216858  0.530353  0.390946  0.276777\n",
       "1  0.539195  0.918449  0.753328  0.786820  0.124434\n",
       "2  0.958271  0.091281  0.844990  0.623345  0.585116\n",
       "3  0.736231  0.483943  0.909906  0.783644  0.838569\n",
       "4  0.590180  0.977407  0.837250  0.383525  0.248370"
      ]
     },
     "execution_count": 14,
     "metadata": {},
     "output_type": "execute_result"
    }
   ],
   "source": [
    "df1 = pd.DataFrame(np.random.rand(5,5))#here we created dataframe using numpy random numbers\n",
    "df1"
   ]
  },
  {
   "cell_type": "markdown",
   "id": "020ba925",
   "metadata": {},
   "source": [
    "# indexing and giving column names"
   ]
  },
  {
   "cell_type": "code",
   "execution_count": 15,
   "id": "9809cbab",
   "metadata": {},
   "outputs": [
    {
     "data": {
      "text/html": [
       "<div>\n",
       "<style scoped>\n",
       "    .dataframe tbody tr th:only-of-type {\n",
       "        vertical-align: middle;\n",
       "    }\n",
       "\n",
       "    .dataframe tbody tr th {\n",
       "        vertical-align: top;\n",
       "    }\n",
       "\n",
       "    .dataframe thead th {\n",
       "        text-align: right;\n",
       "    }\n",
       "</style>\n",
       "<table border=\"1\" class=\"dataframe\">\n",
       "  <thead>\n",
       "    <tr style=\"text-align: right;\">\n",
       "      <th></th>\n",
       "      <th>first</th>\n",
       "      <th>second</th>\n",
       "      <th>third</th>\n",
       "      <th>fourth</th>\n",
       "      <th>fifth</th>\n",
       "    </tr>\n",
       "  </thead>\n",
       "  <tbody>\n",
       "    <tr>\n",
       "      <th>one</th>\n",
       "      <td>0.417353</td>\n",
       "      <td>0.010517</td>\n",
       "      <td>0.473127</td>\n",
       "      <td>0.099021</td>\n",
       "      <td>0.670368</td>\n",
       "    </tr>\n",
       "    <tr>\n",
       "      <th>two</th>\n",
       "      <td>0.529190</td>\n",
       "      <td>0.297085</td>\n",
       "      <td>0.818766</td>\n",
       "      <td>0.325834</td>\n",
       "      <td>0.083521</td>\n",
       "    </tr>\n",
       "    <tr>\n",
       "      <th>three</th>\n",
       "      <td>0.429977</td>\n",
       "      <td>0.849677</td>\n",
       "      <td>0.415422</td>\n",
       "      <td>0.730958</td>\n",
       "      <td>0.893193</td>\n",
       "    </tr>\n",
       "    <tr>\n",
       "      <th>four</th>\n",
       "      <td>0.166678</td>\n",
       "      <td>0.032881</td>\n",
       "      <td>0.305859</td>\n",
       "      <td>0.918278</td>\n",
       "      <td>0.923379</td>\n",
       "    </tr>\n",
       "    <tr>\n",
       "      <th>five</th>\n",
       "      <td>0.585812</td>\n",
       "      <td>0.009920</td>\n",
       "      <td>0.588297</td>\n",
       "      <td>0.111847</td>\n",
       "      <td>0.034634</td>\n",
       "    </tr>\n",
       "  </tbody>\n",
       "</table>\n",
       "</div>"
      ],
      "text/plain": [
       "          first    second     third    fourth     fifth\n",
       "one    0.417353  0.010517  0.473127  0.099021  0.670368\n",
       "two    0.529190  0.297085  0.818766  0.325834  0.083521\n",
       "three  0.429977  0.849677  0.415422  0.730958  0.893193\n",
       "four   0.166678  0.032881  0.305859  0.918278  0.923379\n",
       "five   0.585812  0.009920  0.588297  0.111847  0.034634"
      ]
     },
     "execution_count": 15,
     "metadata": {},
     "output_type": "execute_result"
    }
   ],
   "source": [
    "df1 = pd.DataFrame(np.random.rand(5,5),index=[\"one\",\"two\",\"three\",\"four\",\"five\"],\n",
    "                                       columns=[\"first\",\"second\",\"third\",\"fourth\",\"fifth\"])\n",
    "df1"
   ]
  },
  {
   "cell_type": "markdown",
   "id": "b00ec6cc",
   "metadata": {},
   "source": [
    "# Access"
   ]
  },
  {
   "cell_type": "code",
   "execution_count": 16,
   "id": "f576976e",
   "metadata": {},
   "outputs": [
    {
     "data": {
      "text/plain": [
       "one      0.417353\n",
       "two      0.529190\n",
       "three    0.429977\n",
       "four     0.166678\n",
       "five     0.585812\n",
       "Name: first, dtype: float64"
      ]
     },
     "execution_count": 16,
     "metadata": {},
     "output_type": "execute_result"
    }
   ],
   "source": [
    "df1['first']"
   ]
  },
  {
   "cell_type": "code",
   "execution_count": 17,
   "id": "b06a0229",
   "metadata": {},
   "outputs": [
    {
     "data": {
      "text/html": [
       "<div>\n",
       "<style scoped>\n",
       "    .dataframe tbody tr th:only-of-type {\n",
       "        vertical-align: middle;\n",
       "    }\n",
       "\n",
       "    .dataframe tbody tr th {\n",
       "        vertical-align: top;\n",
       "    }\n",
       "\n",
       "    .dataframe thead th {\n",
       "        text-align: right;\n",
       "    }\n",
       "</style>\n",
       "<table border=\"1\" class=\"dataframe\">\n",
       "  <thead>\n",
       "    <tr style=\"text-align: right;\">\n",
       "      <th></th>\n",
       "      <th>first</th>\n",
       "      <th>second</th>\n",
       "      <th>third</th>\n",
       "    </tr>\n",
       "  </thead>\n",
       "  <tbody>\n",
       "    <tr>\n",
       "      <th>one</th>\n",
       "      <td>0.417353</td>\n",
       "      <td>0.010517</td>\n",
       "      <td>0.473127</td>\n",
       "    </tr>\n",
       "    <tr>\n",
       "      <th>two</th>\n",
       "      <td>0.529190</td>\n",
       "      <td>0.297085</td>\n",
       "      <td>0.818766</td>\n",
       "    </tr>\n",
       "    <tr>\n",
       "      <th>three</th>\n",
       "      <td>0.429977</td>\n",
       "      <td>0.849677</td>\n",
       "      <td>0.415422</td>\n",
       "    </tr>\n",
       "    <tr>\n",
       "      <th>four</th>\n",
       "      <td>0.166678</td>\n",
       "      <td>0.032881</td>\n",
       "      <td>0.305859</td>\n",
       "    </tr>\n",
       "    <tr>\n",
       "      <th>five</th>\n",
       "      <td>0.585812</td>\n",
       "      <td>0.009920</td>\n",
       "      <td>0.588297</td>\n",
       "    </tr>\n",
       "  </tbody>\n",
       "</table>\n",
       "</div>"
      ],
      "text/plain": [
       "          first    second     third\n",
       "one    0.417353  0.010517  0.473127\n",
       "two    0.529190  0.297085  0.818766\n",
       "three  0.429977  0.849677  0.415422\n",
       "four   0.166678  0.032881  0.305859\n",
       "five   0.585812  0.009920  0.588297"
      ]
     },
     "execution_count": 17,
     "metadata": {},
     "output_type": "execute_result"
    }
   ],
   "source": [
    "df1[['first','second','third']]"
   ]
  },
  {
   "cell_type": "code",
   "execution_count": 18,
   "id": "e78f0e2c",
   "metadata": {},
   "outputs": [
    {
     "data": {
      "text/plain": [
       "first     0.417353\n",
       "second    0.010517\n",
       "third     0.473127\n",
       "fourth    0.099021\n",
       "fifth     0.670368\n",
       "Name: one, dtype: float64"
      ]
     },
     "execution_count": 18,
     "metadata": {},
     "output_type": "execute_result"
    }
   ],
   "source": [
    "df1.loc['one']\n"
   ]
  },
  {
   "cell_type": "code",
   "execution_count": 19,
   "id": "89e9357e",
   "metadata": {},
   "outputs": [
    {
     "data": {
      "text/plain": [
       "first     0.529190\n",
       "second    0.297085\n",
       "third     0.818766\n",
       "fourth    0.325834\n",
       "fifth     0.083521\n",
       "Name: two, dtype: float64"
      ]
     },
     "execution_count": 19,
     "metadata": {},
     "output_type": "execute_result"
    }
   ],
   "source": [
    "df1.iloc[1]\n"
   ]
  },
  {
   "cell_type": "markdown",
   "id": "a7424e8a",
   "metadata": {},
   "source": [
    "# Drop Column "
   ]
  },
  {
   "cell_type": "code",
   "execution_count": 20,
   "id": "38362f32",
   "metadata": {},
   "outputs": [
    {
     "data": {
      "text/html": [
       "<div>\n",
       "<style scoped>\n",
       "    .dataframe tbody tr th:only-of-type {\n",
       "        vertical-align: middle;\n",
       "    }\n",
       "\n",
       "    .dataframe tbody tr th {\n",
       "        vertical-align: top;\n",
       "    }\n",
       "\n",
       "    .dataframe thead th {\n",
       "        text-align: right;\n",
       "    }\n",
       "</style>\n",
       "<table border=\"1\" class=\"dataframe\">\n",
       "  <thead>\n",
       "    <tr style=\"text-align: right;\">\n",
       "      <th></th>\n",
       "      <th>first</th>\n",
       "      <th>second</th>\n",
       "      <th>third</th>\n",
       "      <th>fourth</th>\n",
       "    </tr>\n",
       "  </thead>\n",
       "  <tbody>\n",
       "    <tr>\n",
       "      <th>one</th>\n",
       "      <td>0.417353</td>\n",
       "      <td>0.010517</td>\n",
       "      <td>0.473127</td>\n",
       "      <td>0.099021</td>\n",
       "    </tr>\n",
       "    <tr>\n",
       "      <th>two</th>\n",
       "      <td>0.529190</td>\n",
       "      <td>0.297085</td>\n",
       "      <td>0.818766</td>\n",
       "      <td>0.325834</td>\n",
       "    </tr>\n",
       "    <tr>\n",
       "      <th>three</th>\n",
       "      <td>0.429977</td>\n",
       "      <td>0.849677</td>\n",
       "      <td>0.415422</td>\n",
       "      <td>0.730958</td>\n",
       "    </tr>\n",
       "    <tr>\n",
       "      <th>four</th>\n",
       "      <td>0.166678</td>\n",
       "      <td>0.032881</td>\n",
       "      <td>0.305859</td>\n",
       "      <td>0.918278</td>\n",
       "    </tr>\n",
       "    <tr>\n",
       "      <th>five</th>\n",
       "      <td>0.585812</td>\n",
       "      <td>0.009920</td>\n",
       "      <td>0.588297</td>\n",
       "      <td>0.111847</td>\n",
       "    </tr>\n",
       "  </tbody>\n",
       "</table>\n",
       "</div>"
      ],
      "text/plain": [
       "          first    second     third    fourth\n",
       "one    0.417353  0.010517  0.473127  0.099021\n",
       "two    0.529190  0.297085  0.818766  0.325834\n",
       "three  0.429977  0.849677  0.415422  0.730958\n",
       "four   0.166678  0.032881  0.305859  0.918278\n",
       "five   0.585812  0.009920  0.588297  0.111847"
      ]
     },
     "execution_count": 20,
     "metadata": {},
     "output_type": "execute_result"
    }
   ],
   "source": [
    "df1.drop('fifth',axis=1)"
   ]
  },
  {
   "cell_type": "code",
   "execution_count": 21,
   "id": "2ff40279",
   "metadata": {},
   "outputs": [
    {
     "data": {
      "text/html": [
       "<div>\n",
       "<style scoped>\n",
       "    .dataframe tbody tr th:only-of-type {\n",
       "        vertical-align: middle;\n",
       "    }\n",
       "\n",
       "    .dataframe tbody tr th {\n",
       "        vertical-align: top;\n",
       "    }\n",
       "\n",
       "    .dataframe thead th {\n",
       "        text-align: right;\n",
       "    }\n",
       "</style>\n",
       "<table border=\"1\" class=\"dataframe\">\n",
       "  <thead>\n",
       "    <tr style=\"text-align: right;\">\n",
       "      <th></th>\n",
       "      <th>index</th>\n",
       "      <th>first</th>\n",
       "      <th>second</th>\n",
       "      <th>third</th>\n",
       "      <th>fourth</th>\n",
       "      <th>fifth</th>\n",
       "    </tr>\n",
       "  </thead>\n",
       "  <tbody>\n",
       "    <tr>\n",
       "      <th>0</th>\n",
       "      <td>one</td>\n",
       "      <td>0.417353</td>\n",
       "      <td>0.010517</td>\n",
       "      <td>0.473127</td>\n",
       "      <td>0.099021</td>\n",
       "      <td>0.670368</td>\n",
       "    </tr>\n",
       "    <tr>\n",
       "      <th>1</th>\n",
       "      <td>two</td>\n",
       "      <td>0.529190</td>\n",
       "      <td>0.297085</td>\n",
       "      <td>0.818766</td>\n",
       "      <td>0.325834</td>\n",
       "      <td>0.083521</td>\n",
       "    </tr>\n",
       "    <tr>\n",
       "      <th>2</th>\n",
       "      <td>three</td>\n",
       "      <td>0.429977</td>\n",
       "      <td>0.849677</td>\n",
       "      <td>0.415422</td>\n",
       "      <td>0.730958</td>\n",
       "      <td>0.893193</td>\n",
       "    </tr>\n",
       "    <tr>\n",
       "      <th>3</th>\n",
       "      <td>four</td>\n",
       "      <td>0.166678</td>\n",
       "      <td>0.032881</td>\n",
       "      <td>0.305859</td>\n",
       "      <td>0.918278</td>\n",
       "      <td>0.923379</td>\n",
       "    </tr>\n",
       "    <tr>\n",
       "      <th>4</th>\n",
       "      <td>five</td>\n",
       "      <td>0.585812</td>\n",
       "      <td>0.009920</td>\n",
       "      <td>0.588297</td>\n",
       "      <td>0.111847</td>\n",
       "      <td>0.034634</td>\n",
       "    </tr>\n",
       "  </tbody>\n",
       "</table>\n",
       "</div>"
      ],
      "text/plain": [
       "   index     first    second     third    fourth     fifth\n",
       "0    one  0.417353  0.010517  0.473127  0.099021  0.670368\n",
       "1    two  0.529190  0.297085  0.818766  0.325834  0.083521\n",
       "2  three  0.429977  0.849677  0.415422  0.730958  0.893193\n",
       "3   four  0.166678  0.032881  0.305859  0.918278  0.923379\n",
       "4   five  0.585812  0.009920  0.588297  0.111847  0.034634"
      ]
     },
     "execution_count": 21,
     "metadata": {},
     "output_type": "execute_result"
    }
   ],
   "source": [
    "df1.reset_index()\n"
   ]
  },
  {
   "cell_type": "code",
   "execution_count": 22,
   "id": "ba317487",
   "metadata": {},
   "outputs": [
    {
     "data": {
      "text/html": [
       "<div>\n",
       "<style scoped>\n",
       "    .dataframe tbody tr th:only-of-type {\n",
       "        vertical-align: middle;\n",
       "    }\n",
       "\n",
       "    .dataframe tbody tr th {\n",
       "        vertical-align: top;\n",
       "    }\n",
       "\n",
       "    .dataframe thead th {\n",
       "        text-align: right;\n",
       "    }\n",
       "</style>\n",
       "<table border=\"1\" class=\"dataframe\">\n",
       "  <thead>\n",
       "    <tr style=\"text-align: right;\">\n",
       "      <th></th>\n",
       "      <th>first</th>\n",
       "      <th>second</th>\n",
       "      <th>third</th>\n",
       "      <th>fourth</th>\n",
       "      <th>fifth</th>\n",
       "    </tr>\n",
       "  </thead>\n",
       "  <tbody>\n",
       "    <tr>\n",
       "      <th>one</th>\n",
       "      <td>0.417353</td>\n",
       "      <td>0.010517</td>\n",
       "      <td>0.473127</td>\n",
       "      <td>0.099021</td>\n",
       "      <td>10</td>\n",
       "    </tr>\n",
       "    <tr>\n",
       "      <th>two</th>\n",
       "      <td>0.529190</td>\n",
       "      <td>0.297085</td>\n",
       "      <td>0.818766</td>\n",
       "      <td>0.325834</td>\n",
       "      <td>20</td>\n",
       "    </tr>\n",
       "    <tr>\n",
       "      <th>three</th>\n",
       "      <td>0.429977</td>\n",
       "      <td>0.849677</td>\n",
       "      <td>0.415422</td>\n",
       "      <td>0.730958</td>\n",
       "      <td>30</td>\n",
       "    </tr>\n",
       "    <tr>\n",
       "      <th>four</th>\n",
       "      <td>0.166678</td>\n",
       "      <td>0.032881</td>\n",
       "      <td>0.305859</td>\n",
       "      <td>0.918278</td>\n",
       "      <td>40</td>\n",
       "    </tr>\n",
       "    <tr>\n",
       "      <th>five</th>\n",
       "      <td>0.585812</td>\n",
       "      <td>0.009920</td>\n",
       "      <td>0.588297</td>\n",
       "      <td>0.111847</td>\n",
       "      <td>50</td>\n",
       "    </tr>\n",
       "  </tbody>\n",
       "</table>\n",
       "</div>"
      ],
      "text/plain": [
       "          first    second     third    fourth  fifth\n",
       "one    0.417353  0.010517  0.473127  0.099021     10\n",
       "two    0.529190  0.297085  0.818766  0.325834     20\n",
       "three  0.429977  0.849677  0.415422  0.730958     30\n",
       "four   0.166678  0.032881  0.305859  0.918278     40\n",
       "five   0.585812  0.009920  0.588297  0.111847     50"
      ]
     },
     "execution_count": 22,
     "metadata": {},
     "output_type": "execute_result"
    }
   ],
   "source": [
    "df1['fifth']=[10,20,30,40,50]\n",
    "df1"
   ]
  },
  {
   "cell_type": "markdown",
   "id": "09e6e27f",
   "metadata": {},
   "source": [
    "# Creating New DataFrame "
   ]
  },
  {
   "cell_type": "code",
   "execution_count": 23,
   "id": "c615633b",
   "metadata": {},
   "outputs": [
    {
     "data": {
      "text/html": [
       "<div>\n",
       "<style scoped>\n",
       "    .dataframe tbody tr th:only-of-type {\n",
       "        vertical-align: middle;\n",
       "    }\n",
       "\n",
       "    .dataframe tbody tr th {\n",
       "        vertical-align: top;\n",
       "    }\n",
       "\n",
       "    .dataframe thead th {\n",
       "        text-align: right;\n",
       "    }\n",
       "</style>\n",
       "<table border=\"1\" class=\"dataframe\">\n",
       "  <thead>\n",
       "    <tr style=\"text-align: right;\">\n",
       "      <th></th>\n",
       "      <th>name</th>\n",
       "      <th>age</th>\n",
       "      <th>last name</th>\n",
       "      <th>company</th>\n",
       "      <th>level</th>\n",
       "    </tr>\n",
       "  </thead>\n",
       "  <tbody>\n",
       "    <tr>\n",
       "      <th>1</th>\n",
       "      <td>shivesh</td>\n",
       "      <td>23</td>\n",
       "      <td>mishra</td>\n",
       "      <td>QUESS</td>\n",
       "      <td>5</td>\n",
       "    </tr>\n",
       "    <tr>\n",
       "      <th>2</th>\n",
       "      <td>mansi</td>\n",
       "      <td>22</td>\n",
       "      <td>kapoor</td>\n",
       "      <td>NISG</td>\n",
       "      <td>4</td>\n",
       "    </tr>\n",
       "    <tr>\n",
       "      <th>3</th>\n",
       "      <td>baljeet</td>\n",
       "      <td>27</td>\n",
       "      <td>kaur</td>\n",
       "      <td>QUESS</td>\n",
       "      <td>5</td>\n",
       "    </tr>\n",
       "    <tr>\n",
       "      <th>4</th>\n",
       "      <td>sana</td>\n",
       "      <td>19</td>\n",
       "      <td>naseem</td>\n",
       "      <td>NA</td>\n",
       "      <td>2</td>\n",
       "    </tr>\n",
       "    <tr>\n",
       "      <th>5</th>\n",
       "      <td>nupur</td>\n",
       "      <td>25</td>\n",
       "      <td>chawla</td>\n",
       "      <td>QUESS</td>\n",
       "      <td>5</td>\n",
       "    </tr>\n",
       "  </tbody>\n",
       "</table>\n",
       "</div>"
      ],
      "text/plain": [
       "      name  age last name company  level\n",
       "1  shivesh   23    mishra   QUESS      5\n",
       "2    mansi   22    kapoor    NISG      4\n",
       "3  baljeet   27      kaur   QUESS      5\n",
       "4     sana   19    naseem      NA      2\n",
       "5    nupur   25    chawla   QUESS      5"
      ]
     },
     "execution_count": 23,
     "metadata": {},
     "output_type": "execute_result"
    }
   ],
   "source": [
    "new_df = pd.DataFrame({'name':['shivesh','mansi','baljeet','sana','nupur'],\n",
    "                      'age':[23,22,27,19,25],\n",
    "                      'last name':['mishra','kapoor','kaur','naseem','chawla'],\n",
    "                      'company':['QUESS','NISG','QUESS','NA','QUESS'],\n",
    "                      'level':[5,4,5,2,5]},index=[1,2,3,4,5])\n",
    "new_df"
   ]
  },
  {
   "cell_type": "code",
   "execution_count": 24,
   "id": "cfdf08e8",
   "metadata": {},
   "outputs": [
    {
     "data": {
      "text/html": [
       "<div>\n",
       "<style scoped>\n",
       "    .dataframe tbody tr th:only-of-type {\n",
       "        vertical-align: middle;\n",
       "    }\n",
       "\n",
       "    .dataframe tbody tr th {\n",
       "        vertical-align: top;\n",
       "    }\n",
       "\n",
       "    .dataframe thead th {\n",
       "        text-align: right;\n",
       "    }\n",
       "</style>\n",
       "<table border=\"1\" class=\"dataframe\">\n",
       "  <thead>\n",
       "    <tr style=\"text-align: right;\">\n",
       "      <th></th>\n",
       "      <th>name</th>\n",
       "      <th>age</th>\n",
       "      <th>last name</th>\n",
       "      <th>company</th>\n",
       "      <th>experience</th>\n",
       "    </tr>\n",
       "  </thead>\n",
       "  <tbody>\n",
       "    <tr>\n",
       "      <th>1</th>\n",
       "      <td>shivesh</td>\n",
       "      <td>12</td>\n",
       "      <td>mishra</td>\n",
       "      <td>QUESS</td>\n",
       "      <td>5</td>\n",
       "    </tr>\n",
       "    <tr>\n",
       "      <th>2</th>\n",
       "      <td>mansi</td>\n",
       "      <td>13</td>\n",
       "      <td>kapoor</td>\n",
       "      <td>NISG</td>\n",
       "      <td>4</td>\n",
       "    </tr>\n",
       "    <tr>\n",
       "      <th>3</th>\n",
       "      <td>baljeet</td>\n",
       "      <td>14</td>\n",
       "      <td>kaur</td>\n",
       "      <td>QUESS</td>\n",
       "      <td>5</td>\n",
       "    </tr>\n",
       "    <tr>\n",
       "      <th>4</th>\n",
       "      <td>sana</td>\n",
       "      <td>15</td>\n",
       "      <td>naseem</td>\n",
       "      <td>NA</td>\n",
       "      <td>2</td>\n",
       "    </tr>\n",
       "    <tr>\n",
       "      <th>5</th>\n",
       "      <td>nupur</td>\n",
       "      <td>16</td>\n",
       "      <td>chawla</td>\n",
       "      <td>QUESS</td>\n",
       "      <td>5</td>\n",
       "    </tr>\n",
       "  </tbody>\n",
       "</table>\n",
       "</div>"
      ],
      "text/plain": [
       "      name  age last name company  experience\n",
       "1  shivesh   12    mishra   QUESS           5\n",
       "2    mansi   13    kapoor    NISG           4\n",
       "3  baljeet   14      kaur   QUESS           5\n",
       "4     sana   15    naseem      NA           2\n",
       "5    nupur   16    chawla   QUESS           5"
      ]
     },
     "execution_count": 24,
     "metadata": {},
     "output_type": "execute_result"
    }
   ],
   "source": [
    "new_df1 = pd.DataFrame({'name':['shivesh','mansi','baljeet','sana','nupur'],\n",
    "                      'age':[12,13,14,15,16],\n",
    "                      'last name':['mishra','kapoor','kaur','naseem','chawla'],\n",
    "                      'company':['QUESS','NISG','QUESS','NA','QUESS'],\n",
    "                      'experience':[5,4,5,2,5]},index=[1,2,3,4,5])\n",
    "new_df1"
   ]
  },
  {
   "cell_type": "code",
   "execution_count": 25,
   "id": "7d884e7b",
   "metadata": {},
   "outputs": [
    {
     "data": {
      "text/html": [
       "<div>\n",
       "<style scoped>\n",
       "    .dataframe tbody tr th:only-of-type {\n",
       "        vertical-align: middle;\n",
       "    }\n",
       "\n",
       "    .dataframe tbody tr th {\n",
       "        vertical-align: top;\n",
       "    }\n",
       "\n",
       "    .dataframe thead th {\n",
       "        text-align: right;\n",
       "    }\n",
       "</style>\n",
       "<table border=\"1\" class=\"dataframe\">\n",
       "  <thead>\n",
       "    <tr style=\"text-align: right;\">\n",
       "      <th></th>\n",
       "      <th>age</th>\n",
       "      <th>company</th>\n",
       "      <th>experience</th>\n",
       "      <th>last name</th>\n",
       "      <th>level</th>\n",
       "      <th>name</th>\n",
       "    </tr>\n",
       "  </thead>\n",
       "  <tbody>\n",
       "    <tr>\n",
       "      <th>1</th>\n",
       "      <td>35</td>\n",
       "      <td>QUESSQUESS</td>\n",
       "      <td>NaN</td>\n",
       "      <td>mishramishra</td>\n",
       "      <td>NaN</td>\n",
       "      <td>shiveshshivesh</td>\n",
       "    </tr>\n",
       "    <tr>\n",
       "      <th>2</th>\n",
       "      <td>35</td>\n",
       "      <td>NISGNISG</td>\n",
       "      <td>NaN</td>\n",
       "      <td>kapoorkapoor</td>\n",
       "      <td>NaN</td>\n",
       "      <td>mansimansi</td>\n",
       "    </tr>\n",
       "    <tr>\n",
       "      <th>3</th>\n",
       "      <td>41</td>\n",
       "      <td>QUESSQUESS</td>\n",
       "      <td>NaN</td>\n",
       "      <td>kaurkaur</td>\n",
       "      <td>NaN</td>\n",
       "      <td>baljeetbaljeet</td>\n",
       "    </tr>\n",
       "    <tr>\n",
       "      <th>4</th>\n",
       "      <td>34</td>\n",
       "      <td>NANA</td>\n",
       "      <td>NaN</td>\n",
       "      <td>naseemnaseem</td>\n",
       "      <td>NaN</td>\n",
       "      <td>sanasana</td>\n",
       "    </tr>\n",
       "    <tr>\n",
       "      <th>5</th>\n",
       "      <td>41</td>\n",
       "      <td>QUESSQUESS</td>\n",
       "      <td>NaN</td>\n",
       "      <td>chawlachawla</td>\n",
       "      <td>NaN</td>\n",
       "      <td>nupurnupur</td>\n",
       "    </tr>\n",
       "  </tbody>\n",
       "</table>\n",
       "</div>"
      ],
      "text/plain": [
       "   age     company  experience     last name  level            name\n",
       "1   35  QUESSQUESS         NaN  mishramishra    NaN  shiveshshivesh\n",
       "2   35    NISGNISG         NaN  kapoorkapoor    NaN      mansimansi\n",
       "3   41  QUESSQUESS         NaN      kaurkaur    NaN  baljeetbaljeet\n",
       "4   34        NANA         NaN  naseemnaseem    NaN        sanasana\n",
       "5   41  QUESSQUESS         NaN  chawlachawla    NaN      nupurnupur"
      ]
     },
     "execution_count": 25,
     "metadata": {},
     "output_type": "execute_result"
    }
   ],
   "source": [
    "new_df1+new_df"
   ]
  },
  {
   "cell_type": "code",
   "execution_count": 26,
   "id": "f55f7f61",
   "metadata": {},
   "outputs": [
    {
     "data": {
      "text/html": [
       "<div>\n",
       "<style scoped>\n",
       "    .dataframe tbody tr th:only-of-type {\n",
       "        vertical-align: middle;\n",
       "    }\n",
       "\n",
       "    .dataframe tbody tr th {\n",
       "        vertical-align: top;\n",
       "    }\n",
       "\n",
       "    .dataframe thead th {\n",
       "        text-align: right;\n",
       "    }\n",
       "</style>\n",
       "<table border=\"1\" class=\"dataframe\">\n",
       "  <thead>\n",
       "    <tr style=\"text-align: right;\">\n",
       "      <th></th>\n",
       "      <th>age</th>\n",
       "      <th>company</th>\n",
       "      <th>experience</th>\n",
       "      <th>last name</th>\n",
       "      <th>level</th>\n",
       "      <th>name</th>\n",
       "    </tr>\n",
       "  </thead>\n",
       "  <tbody>\n",
       "    <tr>\n",
       "      <th>1</th>\n",
       "      <td>23</td>\n",
       "      <td>QUESS</td>\n",
       "      <td>NaN</td>\n",
       "      <td>mishra</td>\n",
       "      <td>5.0</td>\n",
       "      <td>shivesh</td>\n",
       "    </tr>\n",
       "    <tr>\n",
       "      <th>2</th>\n",
       "      <td>22</td>\n",
       "      <td>NISG</td>\n",
       "      <td>NaN</td>\n",
       "      <td>kapoor</td>\n",
       "      <td>4.0</td>\n",
       "      <td>mansi</td>\n",
       "    </tr>\n",
       "    <tr>\n",
       "      <th>3</th>\n",
       "      <td>27</td>\n",
       "      <td>QUESS</td>\n",
       "      <td>NaN</td>\n",
       "      <td>kaur</td>\n",
       "      <td>5.0</td>\n",
       "      <td>baljeet</td>\n",
       "    </tr>\n",
       "    <tr>\n",
       "      <th>4</th>\n",
       "      <td>19</td>\n",
       "      <td>NA</td>\n",
       "      <td>NaN</td>\n",
       "      <td>naseem</td>\n",
       "      <td>2.0</td>\n",
       "      <td>sana</td>\n",
       "    </tr>\n",
       "    <tr>\n",
       "      <th>5</th>\n",
       "      <td>25</td>\n",
       "      <td>QUESS</td>\n",
       "      <td>NaN</td>\n",
       "      <td>chawla</td>\n",
       "      <td>5.0</td>\n",
       "      <td>nupur</td>\n",
       "    </tr>\n",
       "    <tr>\n",
       "      <th>1</th>\n",
       "      <td>12</td>\n",
       "      <td>QUESS</td>\n",
       "      <td>5.0</td>\n",
       "      <td>mishra</td>\n",
       "      <td>NaN</td>\n",
       "      <td>shivesh</td>\n",
       "    </tr>\n",
       "    <tr>\n",
       "      <th>2</th>\n",
       "      <td>13</td>\n",
       "      <td>NISG</td>\n",
       "      <td>4.0</td>\n",
       "      <td>kapoor</td>\n",
       "      <td>NaN</td>\n",
       "      <td>mansi</td>\n",
       "    </tr>\n",
       "    <tr>\n",
       "      <th>3</th>\n",
       "      <td>14</td>\n",
       "      <td>QUESS</td>\n",
       "      <td>5.0</td>\n",
       "      <td>kaur</td>\n",
       "      <td>NaN</td>\n",
       "      <td>baljeet</td>\n",
       "    </tr>\n",
       "    <tr>\n",
       "      <th>4</th>\n",
       "      <td>15</td>\n",
       "      <td>NA</td>\n",
       "      <td>2.0</td>\n",
       "      <td>naseem</td>\n",
       "      <td>NaN</td>\n",
       "      <td>sana</td>\n",
       "    </tr>\n",
       "    <tr>\n",
       "      <th>5</th>\n",
       "      <td>16</td>\n",
       "      <td>QUESS</td>\n",
       "      <td>5.0</td>\n",
       "      <td>chawla</td>\n",
       "      <td>NaN</td>\n",
       "      <td>nupur</td>\n",
       "    </tr>\n",
       "  </tbody>\n",
       "</table>\n",
       "</div>"
      ],
      "text/plain": [
       "   age company  experience last name  level     name\n",
       "1   23   QUESS         NaN    mishra    5.0  shivesh\n",
       "2   22    NISG         NaN    kapoor    4.0    mansi\n",
       "3   27   QUESS         NaN      kaur    5.0  baljeet\n",
       "4   19      NA         NaN    naseem    2.0     sana\n",
       "5   25   QUESS         NaN    chawla    5.0    nupur\n",
       "1   12   QUESS         5.0    mishra    NaN  shivesh\n",
       "2   13    NISG         4.0    kapoor    NaN    mansi\n",
       "3   14   QUESS         5.0      kaur    NaN  baljeet\n",
       "4   15      NA         2.0    naseem    NaN     sana\n",
       "5   16   QUESS         5.0    chawla    NaN    nupur"
      ]
     },
     "execution_count": 26,
     "metadata": {},
     "output_type": "execute_result"
    }
   ],
   "source": [
    "pd.concat([new_df,new_df1],axis=0,sort=True)\n"
   ]
  },
  {
   "cell_type": "code",
   "execution_count": 27,
   "id": "665e247c",
   "metadata": {},
   "outputs": [
    {
     "data": {
      "text/html": [
       "<div>\n",
       "<style scoped>\n",
       "    .dataframe tbody tr th:only-of-type {\n",
       "        vertical-align: middle;\n",
       "    }\n",
       "\n",
       "    .dataframe tbody tr th {\n",
       "        vertical-align: top;\n",
       "    }\n",
       "\n",
       "    .dataframe thead th {\n",
       "        text-align: right;\n",
       "    }\n",
       "</style>\n",
       "<table border=\"1\" class=\"dataframe\">\n",
       "  <thead>\n",
       "    <tr style=\"text-align: right;\">\n",
       "      <th></th>\n",
       "      <th>name_x</th>\n",
       "      <th>age</th>\n",
       "      <th>last name_x</th>\n",
       "      <th>company_x</th>\n",
       "      <th>level</th>\n",
       "      <th>name_y</th>\n",
       "      <th>last name_y</th>\n",
       "      <th>company_y</th>\n",
       "      <th>experience</th>\n",
       "    </tr>\n",
       "  </thead>\n",
       "  <tbody>\n",
       "    <tr>\n",
       "      <th>0</th>\n",
       "      <td>NaN</td>\n",
       "      <td>12</td>\n",
       "      <td>NaN</td>\n",
       "      <td>NaN</td>\n",
       "      <td>NaN</td>\n",
       "      <td>shivesh</td>\n",
       "      <td>mishra</td>\n",
       "      <td>QUESS</td>\n",
       "      <td>5</td>\n",
       "    </tr>\n",
       "    <tr>\n",
       "      <th>1</th>\n",
       "      <td>NaN</td>\n",
       "      <td>13</td>\n",
       "      <td>NaN</td>\n",
       "      <td>NaN</td>\n",
       "      <td>NaN</td>\n",
       "      <td>mansi</td>\n",
       "      <td>kapoor</td>\n",
       "      <td>NISG</td>\n",
       "      <td>4</td>\n",
       "    </tr>\n",
       "    <tr>\n",
       "      <th>2</th>\n",
       "      <td>NaN</td>\n",
       "      <td>14</td>\n",
       "      <td>NaN</td>\n",
       "      <td>NaN</td>\n",
       "      <td>NaN</td>\n",
       "      <td>baljeet</td>\n",
       "      <td>kaur</td>\n",
       "      <td>QUESS</td>\n",
       "      <td>5</td>\n",
       "    </tr>\n",
       "    <tr>\n",
       "      <th>3</th>\n",
       "      <td>NaN</td>\n",
       "      <td>15</td>\n",
       "      <td>NaN</td>\n",
       "      <td>NaN</td>\n",
       "      <td>NaN</td>\n",
       "      <td>sana</td>\n",
       "      <td>naseem</td>\n",
       "      <td>NA</td>\n",
       "      <td>2</td>\n",
       "    </tr>\n",
       "    <tr>\n",
       "      <th>4</th>\n",
       "      <td>NaN</td>\n",
       "      <td>16</td>\n",
       "      <td>NaN</td>\n",
       "      <td>NaN</td>\n",
       "      <td>NaN</td>\n",
       "      <td>nupur</td>\n",
       "      <td>chawla</td>\n",
       "      <td>QUESS</td>\n",
       "      <td>5</td>\n",
       "    </tr>\n",
       "  </tbody>\n",
       "</table>\n",
       "</div>"
      ],
      "text/plain": [
       "  name_x  age last name_x company_x  level   name_y last name_y company_y  \\\n",
       "0    NaN   12         NaN       NaN    NaN  shivesh      mishra     QUESS   \n",
       "1    NaN   13         NaN       NaN    NaN    mansi      kapoor      NISG   \n",
       "2    NaN   14         NaN       NaN    NaN  baljeet        kaur     QUESS   \n",
       "3    NaN   15         NaN       NaN    NaN     sana      naseem        NA   \n",
       "4    NaN   16         NaN       NaN    NaN    nupur      chawla     QUESS   \n",
       "\n",
       "   experience  \n",
       "0           5  \n",
       "1           4  \n",
       "2           5  \n",
       "3           2  \n",
       "4           5  "
      ]
     },
     "execution_count": 27,
     "metadata": {},
     "output_type": "execute_result"
    }
   ],
   "source": [
    "pd.merge(new_df,new_df1,how='right',on='age')\n"
   ]
  },
  {
   "cell_type": "code",
   "execution_count": 28,
   "id": "b8ca3f26",
   "metadata": {},
   "outputs": [
    {
     "data": {
      "text/html": [
       "<div>\n",
       "<style scoped>\n",
       "    .dataframe tbody tr th:only-of-type {\n",
       "        vertical-align: middle;\n",
       "    }\n",
       "\n",
       "    .dataframe tbody tr th {\n",
       "        vertical-align: top;\n",
       "    }\n",
       "\n",
       "    .dataframe thead th {\n",
       "        text-align: right;\n",
       "    }\n",
       "</style>\n",
       "<table border=\"1\" class=\"dataframe\">\n",
       "  <thead>\n",
       "    <tr style=\"text-align: right;\">\n",
       "      <th></th>\n",
       "      <th>name_x</th>\n",
       "      <th>age</th>\n",
       "      <th>last name_x</th>\n",
       "      <th>company_x</th>\n",
       "      <th>level</th>\n",
       "      <th>name_y</th>\n",
       "      <th>last name_y</th>\n",
       "      <th>company_y</th>\n",
       "      <th>experience</th>\n",
       "    </tr>\n",
       "  </thead>\n",
       "  <tbody>\n",
       "    <tr>\n",
       "      <th>0</th>\n",
       "      <td>shivesh</td>\n",
       "      <td>23</td>\n",
       "      <td>mishra</td>\n",
       "      <td>QUESS</td>\n",
       "      <td>5.0</td>\n",
       "      <td>NaN</td>\n",
       "      <td>NaN</td>\n",
       "      <td>NaN</td>\n",
       "      <td>NaN</td>\n",
       "    </tr>\n",
       "    <tr>\n",
       "      <th>1</th>\n",
       "      <td>mansi</td>\n",
       "      <td>22</td>\n",
       "      <td>kapoor</td>\n",
       "      <td>NISG</td>\n",
       "      <td>4.0</td>\n",
       "      <td>NaN</td>\n",
       "      <td>NaN</td>\n",
       "      <td>NaN</td>\n",
       "      <td>NaN</td>\n",
       "    </tr>\n",
       "    <tr>\n",
       "      <th>2</th>\n",
       "      <td>baljeet</td>\n",
       "      <td>27</td>\n",
       "      <td>kaur</td>\n",
       "      <td>QUESS</td>\n",
       "      <td>5.0</td>\n",
       "      <td>NaN</td>\n",
       "      <td>NaN</td>\n",
       "      <td>NaN</td>\n",
       "      <td>NaN</td>\n",
       "    </tr>\n",
       "    <tr>\n",
       "      <th>3</th>\n",
       "      <td>sana</td>\n",
       "      <td>19</td>\n",
       "      <td>naseem</td>\n",
       "      <td>NA</td>\n",
       "      <td>2.0</td>\n",
       "      <td>NaN</td>\n",
       "      <td>NaN</td>\n",
       "      <td>NaN</td>\n",
       "      <td>NaN</td>\n",
       "    </tr>\n",
       "    <tr>\n",
       "      <th>4</th>\n",
       "      <td>nupur</td>\n",
       "      <td>25</td>\n",
       "      <td>chawla</td>\n",
       "      <td>QUESS</td>\n",
       "      <td>5.0</td>\n",
       "      <td>NaN</td>\n",
       "      <td>NaN</td>\n",
       "      <td>NaN</td>\n",
       "      <td>NaN</td>\n",
       "    </tr>\n",
       "    <tr>\n",
       "      <th>5</th>\n",
       "      <td>NaN</td>\n",
       "      <td>12</td>\n",
       "      <td>NaN</td>\n",
       "      <td>NaN</td>\n",
       "      <td>NaN</td>\n",
       "      <td>shivesh</td>\n",
       "      <td>mishra</td>\n",
       "      <td>QUESS</td>\n",
       "      <td>5.0</td>\n",
       "    </tr>\n",
       "    <tr>\n",
       "      <th>6</th>\n",
       "      <td>NaN</td>\n",
       "      <td>13</td>\n",
       "      <td>NaN</td>\n",
       "      <td>NaN</td>\n",
       "      <td>NaN</td>\n",
       "      <td>mansi</td>\n",
       "      <td>kapoor</td>\n",
       "      <td>NISG</td>\n",
       "      <td>4.0</td>\n",
       "    </tr>\n",
       "    <tr>\n",
       "      <th>7</th>\n",
       "      <td>NaN</td>\n",
       "      <td>14</td>\n",
       "      <td>NaN</td>\n",
       "      <td>NaN</td>\n",
       "      <td>NaN</td>\n",
       "      <td>baljeet</td>\n",
       "      <td>kaur</td>\n",
       "      <td>QUESS</td>\n",
       "      <td>5.0</td>\n",
       "    </tr>\n",
       "    <tr>\n",
       "      <th>8</th>\n",
       "      <td>NaN</td>\n",
       "      <td>15</td>\n",
       "      <td>NaN</td>\n",
       "      <td>NaN</td>\n",
       "      <td>NaN</td>\n",
       "      <td>sana</td>\n",
       "      <td>naseem</td>\n",
       "      <td>NA</td>\n",
       "      <td>2.0</td>\n",
       "    </tr>\n",
       "    <tr>\n",
       "      <th>9</th>\n",
       "      <td>NaN</td>\n",
       "      <td>16</td>\n",
       "      <td>NaN</td>\n",
       "      <td>NaN</td>\n",
       "      <td>NaN</td>\n",
       "      <td>nupur</td>\n",
       "      <td>chawla</td>\n",
       "      <td>QUESS</td>\n",
       "      <td>5.0</td>\n",
       "    </tr>\n",
       "  </tbody>\n",
       "</table>\n",
       "</div>"
      ],
      "text/plain": [
       "    name_x  age last name_x company_x  level   name_y last name_y company_y  \\\n",
       "0  shivesh   23      mishra     QUESS    5.0      NaN         NaN       NaN   \n",
       "1    mansi   22      kapoor      NISG    4.0      NaN         NaN       NaN   \n",
       "2  baljeet   27        kaur     QUESS    5.0      NaN         NaN       NaN   \n",
       "3     sana   19      naseem        NA    2.0      NaN         NaN       NaN   \n",
       "4    nupur   25      chawla     QUESS    5.0      NaN         NaN       NaN   \n",
       "5      NaN   12         NaN       NaN    NaN  shivesh      mishra     QUESS   \n",
       "6      NaN   13         NaN       NaN    NaN    mansi      kapoor      NISG   \n",
       "7      NaN   14         NaN       NaN    NaN  baljeet        kaur     QUESS   \n",
       "8      NaN   15         NaN       NaN    NaN     sana      naseem        NA   \n",
       "9      NaN   16         NaN       NaN    NaN    nupur      chawla     QUESS   \n",
       "\n",
       "   experience  \n",
       "0         NaN  \n",
       "1         NaN  \n",
       "2         NaN  \n",
       "3         NaN  \n",
       "4         NaN  \n",
       "5         5.0  \n",
       "6         4.0  \n",
       "7         5.0  \n",
       "8         2.0  \n",
       "9         5.0  "
      ]
     },
     "execution_count": 28,
     "metadata": {},
     "output_type": "execute_result"
    }
   ],
   "source": [
    "final = pd.merge(new_df,new_df1,how='outer',on='age')\n",
    "final"
   ]
  },
  {
   "cell_type": "code",
   "execution_count": 29,
   "id": "496cffb3",
   "metadata": {},
   "outputs": [
    {
     "data": {
      "text/html": [
       "<div>\n",
       "<style scoped>\n",
       "    .dataframe tbody tr th:only-of-type {\n",
       "        vertical-align: middle;\n",
       "    }\n",
       "\n",
       "    .dataframe tbody tr th {\n",
       "        vertical-align: top;\n",
       "    }\n",
       "\n",
       "    .dataframe thead th {\n",
       "        text-align: right;\n",
       "    }\n",
       "</style>\n",
       "<table border=\"1\" class=\"dataframe\">\n",
       "  <thead>\n",
       "    <tr style=\"text-align: right;\">\n",
       "      <th></th>\n",
       "      <th>Unnamed: 0</th>\n",
       "      <th>name_x</th>\n",
       "      <th>age</th>\n",
       "      <th>last name_x</th>\n",
       "      <th>company_x</th>\n",
       "      <th>level</th>\n",
       "      <th>name_y</th>\n",
       "      <th>last name_y</th>\n",
       "      <th>company_y</th>\n",
       "      <th>experience</th>\n",
       "    </tr>\n",
       "  </thead>\n",
       "  <tbody>\n",
       "    <tr>\n",
       "      <th>0</th>\n",
       "      <td>0</td>\n",
       "      <td>shivesh</td>\n",
       "      <td>23</td>\n",
       "      <td>mishra</td>\n",
       "      <td>QUESS</td>\n",
       "      <td>5.0</td>\n",
       "      <td>NaN</td>\n",
       "      <td>NaN</td>\n",
       "      <td>NaN</td>\n",
       "      <td>NaN</td>\n",
       "    </tr>\n",
       "    <tr>\n",
       "      <th>1</th>\n",
       "      <td>1</td>\n",
       "      <td>mansi</td>\n",
       "      <td>22</td>\n",
       "      <td>kapoor</td>\n",
       "      <td>NISG</td>\n",
       "      <td>4.0</td>\n",
       "      <td>NaN</td>\n",
       "      <td>NaN</td>\n",
       "      <td>NaN</td>\n",
       "      <td>NaN</td>\n",
       "    </tr>\n",
       "    <tr>\n",
       "      <th>2</th>\n",
       "      <td>2</td>\n",
       "      <td>baljeet</td>\n",
       "      <td>27</td>\n",
       "      <td>kaur</td>\n",
       "      <td>QUESS</td>\n",
       "      <td>5.0</td>\n",
       "      <td>NaN</td>\n",
       "      <td>NaN</td>\n",
       "      <td>NaN</td>\n",
       "      <td>NaN</td>\n",
       "    </tr>\n",
       "    <tr>\n",
       "      <th>3</th>\n",
       "      <td>3</td>\n",
       "      <td>sana</td>\n",
       "      <td>19</td>\n",
       "      <td>naseem</td>\n",
       "      <td>NaN</td>\n",
       "      <td>2.0</td>\n",
       "      <td>NaN</td>\n",
       "      <td>NaN</td>\n",
       "      <td>NaN</td>\n",
       "      <td>NaN</td>\n",
       "    </tr>\n",
       "    <tr>\n",
       "      <th>4</th>\n",
       "      <td>4</td>\n",
       "      <td>nupur</td>\n",
       "      <td>25</td>\n",
       "      <td>chawla</td>\n",
       "      <td>QUESS</td>\n",
       "      <td>5.0</td>\n",
       "      <td>NaN</td>\n",
       "      <td>NaN</td>\n",
       "      <td>NaN</td>\n",
       "      <td>NaN</td>\n",
       "    </tr>\n",
       "    <tr>\n",
       "      <th>5</th>\n",
       "      <td>5</td>\n",
       "      <td>NaN</td>\n",
       "      <td>12</td>\n",
       "      <td>NaN</td>\n",
       "      <td>NaN</td>\n",
       "      <td>NaN</td>\n",
       "      <td>shivesh</td>\n",
       "      <td>mishra</td>\n",
       "      <td>QUESS</td>\n",
       "      <td>5.0</td>\n",
       "    </tr>\n",
       "    <tr>\n",
       "      <th>6</th>\n",
       "      <td>6</td>\n",
       "      <td>NaN</td>\n",
       "      <td>13</td>\n",
       "      <td>NaN</td>\n",
       "      <td>NaN</td>\n",
       "      <td>NaN</td>\n",
       "      <td>mansi</td>\n",
       "      <td>kapoor</td>\n",
       "      <td>NISG</td>\n",
       "      <td>4.0</td>\n",
       "    </tr>\n",
       "    <tr>\n",
       "      <th>7</th>\n",
       "      <td>7</td>\n",
       "      <td>NaN</td>\n",
       "      <td>14</td>\n",
       "      <td>NaN</td>\n",
       "      <td>NaN</td>\n",
       "      <td>NaN</td>\n",
       "      <td>baljeet</td>\n",
       "      <td>kaur</td>\n",
       "      <td>QUESS</td>\n",
       "      <td>5.0</td>\n",
       "    </tr>\n",
       "    <tr>\n",
       "      <th>8</th>\n",
       "      <td>8</td>\n",
       "      <td>NaN</td>\n",
       "      <td>15</td>\n",
       "      <td>NaN</td>\n",
       "      <td>NaN</td>\n",
       "      <td>NaN</td>\n",
       "      <td>sana</td>\n",
       "      <td>naseem</td>\n",
       "      <td>NaN</td>\n",
       "      <td>2.0</td>\n",
       "    </tr>\n",
       "    <tr>\n",
       "      <th>9</th>\n",
       "      <td>9</td>\n",
       "      <td>NaN</td>\n",
       "      <td>16</td>\n",
       "      <td>NaN</td>\n",
       "      <td>NaN</td>\n",
       "      <td>NaN</td>\n",
       "      <td>nupur</td>\n",
       "      <td>chawla</td>\n",
       "      <td>QUESS</td>\n",
       "      <td>5.0</td>\n",
       "    </tr>\n",
       "  </tbody>\n",
       "</table>\n",
       "</div>"
      ],
      "text/plain": [
       "   Unnamed: 0   name_x  age last name_x company_x  level   name_y last name_y  \\\n",
       "0           0  shivesh   23      mishra     QUESS    5.0      NaN         NaN   \n",
       "1           1    mansi   22      kapoor      NISG    4.0      NaN         NaN   \n",
       "2           2  baljeet   27        kaur     QUESS    5.0      NaN         NaN   \n",
       "3           3     sana   19      naseem       NaN    2.0      NaN         NaN   \n",
       "4           4    nupur   25      chawla     QUESS    5.0      NaN         NaN   \n",
       "5           5      NaN   12         NaN       NaN    NaN  shivesh      mishra   \n",
       "6           6      NaN   13         NaN       NaN    NaN    mansi      kapoor   \n",
       "7           7      NaN   14         NaN       NaN    NaN  baljeet        kaur   \n",
       "8           8      NaN   15         NaN       NaN    NaN     sana      naseem   \n",
       "9           9      NaN   16         NaN       NaN    NaN    nupur      chawla   \n",
       "\n",
       "  company_y  experience  \n",
       "0       NaN         NaN  \n",
       "1       NaN         NaN  \n",
       "2       NaN         NaN  \n",
       "3       NaN         NaN  \n",
       "4       NaN         NaN  \n",
       "5     QUESS         5.0  \n",
       "6      NISG         4.0  \n",
       "7     QUESS         5.0  \n",
       "8       NaN         2.0  \n",
       "9     QUESS         5.0  "
      ]
     },
     "execution_count": 29,
     "metadata": {},
     "output_type": "execute_result"
    }
   ],
   "source": [
    "final.to_csv('final.csv',index=True)\n",
    "pd.read_csv('final.csv')"
   ]
  },
  {
   "cell_type": "code",
   "execution_count": 30,
   "id": "b4e44fad",
   "metadata": {},
   "outputs": [
    {
     "data": {
      "text/plain": [
       "40"
      ]
     },
     "execution_count": 30,
     "metadata": {},
     "output_type": "execute_result"
    }
   ],
   "source": [
    "pd.isnull(final).sum().sum()\n",
    "40"
   ]
  },
  {
   "cell_type": "code",
   "execution_count": null,
   "id": "ea5be122",
   "metadata": {},
   "outputs": [],
   "source": []
  },
  {
   "cell_type": "code",
   "execution_count": null,
   "id": "4ac6e649",
   "metadata": {},
   "outputs": [],
   "source": []
  },
  {
   "cell_type": "code",
   "execution_count": null,
   "id": "a1089708",
   "metadata": {},
   "outputs": [],
   "source": []
  },
  {
   "cell_type": "code",
   "execution_count": null,
   "id": "fb25d5af",
   "metadata": {},
   "outputs": [],
   "source": []
  },
  {
   "cell_type": "code",
   "execution_count": null,
   "id": "b613c3d3",
   "metadata": {},
   "outputs": [],
   "source": []
  },
  {
   "cell_type": "code",
   "execution_count": null,
   "id": "7f5e1e55",
   "metadata": {},
   "outputs": [],
   "source": []
  },
  {
   "cell_type": "code",
   "execution_count": null,
   "id": "6bda2ec6",
   "metadata": {},
   "outputs": [],
   "source": []
  },
  {
   "cell_type": "code",
   "execution_count": null,
   "id": "bc57561a",
   "metadata": {},
   "outputs": [],
   "source": []
  },
  {
   "cell_type": "code",
   "execution_count": null,
   "id": "c22a0aa8",
   "metadata": {},
   "outputs": [],
   "source": []
  },
  {
   "cell_type": "code",
   "execution_count": null,
   "id": "f02215b1",
   "metadata": {},
   "outputs": [],
   "source": []
  },
  {
   "cell_type": "code",
   "execution_count": null,
   "id": "06b083f5",
   "metadata": {},
   "outputs": [],
   "source": []
  },
  {
   "cell_type": "code",
   "execution_count": null,
   "id": "8eaf5ec2",
   "metadata": {},
   "outputs": [],
   "source": []
  },
  {
   "cell_type": "code",
   "execution_count": null,
   "id": "9f866189",
   "metadata": {},
   "outputs": [],
   "source": []
  },
  {
   "cell_type": "code",
   "execution_count": null,
   "id": "0a46fa4b",
   "metadata": {},
   "outputs": [],
   "source": []
  },
  {
   "cell_type": "code",
   "execution_count": null,
   "id": "b2a6e6ab",
   "metadata": {},
   "outputs": [],
   "source": []
  },
  {
   "cell_type": "code",
   "execution_count": null,
   "id": "24801574",
   "metadata": {},
   "outputs": [],
   "source": []
  },
  {
   "cell_type": "code",
   "execution_count": null,
   "id": "857171a4",
   "metadata": {},
   "outputs": [],
   "source": []
  },
  {
   "cell_type": "code",
   "execution_count": null,
   "id": "ae4aea04",
   "metadata": {},
   "outputs": [],
   "source": []
  },
  {
   "cell_type": "code",
   "execution_count": null,
   "id": "41e809a3",
   "metadata": {},
   "outputs": [],
   "source": []
  },
  {
   "cell_type": "code",
   "execution_count": null,
   "id": "435b2e26",
   "metadata": {},
   "outputs": [],
   "source": []
  },
  {
   "cell_type": "code",
   "execution_count": null,
   "id": "907083fa",
   "metadata": {},
   "outputs": [],
   "source": []
  },
  {
   "cell_type": "code",
   "execution_count": null,
   "id": "81734fd8",
   "metadata": {},
   "outputs": [],
   "source": []
  },
  {
   "cell_type": "code",
   "execution_count": null,
   "id": "e5d12111",
   "metadata": {},
   "outputs": [],
   "source": []
  },
  {
   "cell_type": "code",
   "execution_count": null,
   "id": "4617d69e",
   "metadata": {},
   "outputs": [],
   "source": []
  },
  {
   "cell_type": "code",
   "execution_count": null,
   "id": "a8c1c10c",
   "metadata": {},
   "outputs": [],
   "source": []
  },
  {
   "cell_type": "code",
   "execution_count": null,
   "id": "4e285825",
   "metadata": {},
   "outputs": [],
   "source": []
  },
  {
   "cell_type": "code",
   "execution_count": null,
   "id": "44e3d157",
   "metadata": {},
   "outputs": [],
   "source": []
  },
  {
   "cell_type": "code",
   "execution_count": null,
   "id": "e61f0e1d",
   "metadata": {},
   "outputs": [],
   "source": []
  },
  {
   "cell_type": "code",
   "execution_count": null,
   "id": "04eb252c",
   "metadata": {},
   "outputs": [],
   "source": []
  },
  {
   "cell_type": "code",
   "execution_count": null,
   "id": "361fb2fa",
   "metadata": {},
   "outputs": [],
   "source": []
  },
  {
   "cell_type": "code",
   "execution_count": null,
   "id": "e3af3221",
   "metadata": {},
   "outputs": [],
   "source": []
  },
  {
   "cell_type": "code",
   "execution_count": null,
   "id": "0ddeb6e3",
   "metadata": {},
   "outputs": [],
   "source": []
  },
  {
   "cell_type": "code",
   "execution_count": null,
   "id": "6ab7b5ad",
   "metadata": {},
   "outputs": [],
   "source": []
  },
  {
   "cell_type": "code",
   "execution_count": null,
   "id": "db4f09b8",
   "metadata": {},
   "outputs": [],
   "source": []
  },
  {
   "cell_type": "code",
   "execution_count": null,
   "id": "db7df389",
   "metadata": {},
   "outputs": [],
   "source": []
  },
  {
   "cell_type": "code",
   "execution_count": null,
   "id": "507704f5",
   "metadata": {},
   "outputs": [],
   "source": []
  },
  {
   "cell_type": "code",
   "execution_count": null,
   "id": "04a2ceb9",
   "metadata": {},
   "outputs": [],
   "source": []
  },
  {
   "cell_type": "code",
   "execution_count": null,
   "id": "189d94c5",
   "metadata": {},
   "outputs": [],
   "source": []
  },
  {
   "cell_type": "code",
   "execution_count": null,
   "id": "30da6464",
   "metadata": {},
   "outputs": [],
   "source": []
  },
  {
   "cell_type": "code",
   "execution_count": null,
   "id": "631e35c5",
   "metadata": {},
   "outputs": [],
   "source": []
  },
  {
   "cell_type": "code",
   "execution_count": null,
   "id": "d576cd7a",
   "metadata": {},
   "outputs": [],
   "source": []
  },
  {
   "cell_type": "code",
   "execution_count": null,
   "id": "c3aec182",
   "metadata": {},
   "outputs": [],
   "source": []
  },
  {
   "cell_type": "code",
   "execution_count": null,
   "id": "01e0ed33",
   "metadata": {},
   "outputs": [],
   "source": []
  },
  {
   "cell_type": "code",
   "execution_count": null,
   "id": "87f111da",
   "metadata": {},
   "outputs": [],
   "source": []
  },
  {
   "cell_type": "code",
   "execution_count": null,
   "id": "00230cc9",
   "metadata": {},
   "outputs": [],
   "source": []
  },
  {
   "cell_type": "code",
   "execution_count": null,
   "id": "2b3bfd9d",
   "metadata": {},
   "outputs": [],
   "source": []
  },
  {
   "cell_type": "code",
   "execution_count": null,
   "id": "e2fbdc4d",
   "metadata": {},
   "outputs": [],
   "source": []
  },
  {
   "cell_type": "code",
   "execution_count": null,
   "id": "1e81e1f8",
   "metadata": {},
   "outputs": [],
   "source": []
  },
  {
   "cell_type": "code",
   "execution_count": null,
   "id": "cb2cc552",
   "metadata": {},
   "outputs": [],
   "source": []
  },
  {
   "cell_type": "code",
   "execution_count": null,
   "id": "aae415b6",
   "metadata": {},
   "outputs": [],
   "source": []
  },
  {
   "cell_type": "code",
   "execution_count": null,
   "id": "908634df",
   "metadata": {},
   "outputs": [],
   "source": []
  },
  {
   "cell_type": "code",
   "execution_count": null,
   "id": "922bba06",
   "metadata": {},
   "outputs": [],
   "source": []
  },
  {
   "cell_type": "code",
   "execution_count": null,
   "id": "b647666d",
   "metadata": {},
   "outputs": [],
   "source": []
  },
  {
   "cell_type": "code",
   "execution_count": null,
   "id": "682fb75d",
   "metadata": {},
   "outputs": [],
   "source": []
  },
  {
   "cell_type": "code",
   "execution_count": null,
   "id": "26702e08",
   "metadata": {},
   "outputs": [],
   "source": []
  },
  {
   "cell_type": "code",
   "execution_count": null,
   "id": "11001a57",
   "metadata": {},
   "outputs": [],
   "source": []
  },
  {
   "cell_type": "code",
   "execution_count": null,
   "id": "9ca32f0b",
   "metadata": {},
   "outputs": [],
   "source": []
  },
  {
   "cell_type": "code",
   "execution_count": null,
   "id": "03a9f618",
   "metadata": {},
   "outputs": [],
   "source": []
  },
  {
   "cell_type": "code",
   "execution_count": null,
   "id": "e41704e3",
   "metadata": {},
   "outputs": [],
   "source": []
  },
  {
   "cell_type": "code",
   "execution_count": null,
   "id": "eb6c08f5",
   "metadata": {},
   "outputs": [],
   "source": []
  },
  {
   "cell_type": "code",
   "execution_count": null,
   "id": "75f0a93f",
   "metadata": {},
   "outputs": [],
   "source": []
  },
  {
   "cell_type": "code",
   "execution_count": null,
   "id": "ce66ba9a",
   "metadata": {},
   "outputs": [],
   "source": []
  },
  {
   "cell_type": "code",
   "execution_count": null,
   "id": "9d92d90c",
   "metadata": {},
   "outputs": [],
   "source": []
  },
  {
   "cell_type": "code",
   "execution_count": null,
   "id": "75b478ee",
   "metadata": {},
   "outputs": [],
   "source": []
  },
  {
   "cell_type": "code",
   "execution_count": null,
   "id": "0ed424a0",
   "metadata": {},
   "outputs": [],
   "source": []
  },
  {
   "cell_type": "code",
   "execution_count": null,
   "id": "e1d1c318",
   "metadata": {},
   "outputs": [],
   "source": []
  },
  {
   "cell_type": "code",
   "execution_count": null,
   "id": "94d2a4a9",
   "metadata": {},
   "outputs": [],
   "source": []
  },
  {
   "cell_type": "code",
   "execution_count": null,
   "id": "5241692b",
   "metadata": {},
   "outputs": [],
   "source": []
  },
  {
   "cell_type": "code",
   "execution_count": null,
   "id": "7670f814",
   "metadata": {},
   "outputs": [],
   "source": []
  },
  {
   "cell_type": "code",
   "execution_count": null,
   "id": "143eb222",
   "metadata": {},
   "outputs": [],
   "source": []
  },
  {
   "cell_type": "code",
   "execution_count": null,
   "id": "ff9f4ae5",
   "metadata": {},
   "outputs": [],
   "source": []
  },
  {
   "cell_type": "code",
   "execution_count": null,
   "id": "8ccd5a8d",
   "metadata": {},
   "outputs": [],
   "source": []
  },
  {
   "cell_type": "code",
   "execution_count": null,
   "id": "63c02557",
   "metadata": {},
   "outputs": [],
   "source": []
  },
  {
   "cell_type": "code",
   "execution_count": null,
   "id": "a7e99a48",
   "metadata": {},
   "outputs": [],
   "source": []
  },
  {
   "cell_type": "code",
   "execution_count": null,
   "id": "7d7b7719",
   "metadata": {},
   "outputs": [],
   "source": []
  }
 ],
 "metadata": {
  "kernelspec": {
   "display_name": "Python 3 (ipykernel)",
   "language": "python",
   "name": "python3"
  },
  "language_info": {
   "codemirror_mode": {
    "name": "ipython",
    "version": 3
   },
   "file_extension": ".py",
   "mimetype": "text/x-python",
   "name": "python",
   "nbconvert_exporter": "python",
   "pygments_lexer": "ipython3",
   "version": "3.9.13"
  }
 },
 "nbformat": 4,
 "nbformat_minor": 5
}
